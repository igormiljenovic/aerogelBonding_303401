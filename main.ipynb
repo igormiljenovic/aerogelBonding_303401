{
 "cells": [
  {
   "cell_type": "markdown",
   "metadata": {},
   "source": [
    "# Aerogel Bonding AI & ML Project 2024"
   ]
  },
  {
   "cell_type": "markdown",
   "metadata": {},
   "source": [
    "## Importing Libraries & Reading Data"
   ]
  },
  {
   "cell_type": "code",
   "execution_count": 65,
   "metadata": {},
   "outputs": [],
   "source": [
    "#Importing libraries \n",
    "\n",
    "import numpy as np \n",
    "import pandas as pd\n",
    "import matplotlib.pyplot as plt\n",
    "import sklearn\n",
    "import seaborn as sns\n",
    "from sklearn.model_selection import train_test_split, cross_val_score, GridSearchCV\n",
    "from sklearn.linear_model import LogisticRegression\n",
    "from sklearn.tree import DecisionTreeClassifier\n",
    "from sklearn.ensemble import RandomForestClassifier\n",
    "\n",
    "#Reading dataset\n",
    "path = './aerogel_bonding.csv'\n",
    "df = pd.read_csv(path)"
   ]
  },
  {
   "cell_type": "markdown",
   "metadata": {},
   "source": [
    "## EDA & Data Pre-Processing\n",
    "\n",
    "This section explores the aerogel bonding dataset through Exploratory Data Analysis (EDA)."
   ]
  },
  {
   "cell_type": "markdown",
   "metadata": {},
   "source": [
    "### Understanding dataset\n",
    "\n",
    "First, configure pandas to display all columns in the DataFrame."
   ]
  },
  {
   "cell_type": "code",
   "execution_count": 66,
   "metadata": {},
   "outputs": [],
   "source": [
    "pd.set_option('display.max_columns', None)"
   ]
  },
  {
   "cell_type": "markdown",
   "metadata": {},
   "source": [
    "#### Visualizing and understaning data structure & values"
   ]
  },
  {
   "cell_type": "markdown",
   "metadata": {},
   "source": [
    "Now, let's visualize the first few rows of the dataset to get a better understanding of its structure."
   ]
  },
  {
   "cell_type": "code",
   "execution_count": 67,
   "metadata": {},
   "outputs": [
    {
     "data": {
      "text/html": [
       "<div>\n",
       "<style scoped>\n",
       "    .dataframe tbody tr th:only-of-type {\n",
       "        vertical-align: middle;\n",
       "    }\n",
       "\n",
       "    .dataframe tbody tr th {\n",
       "        vertical-align: top;\n",
       "    }\n",
       "\n",
       "    .dataframe thead th {\n",
       "        text-align: right;\n",
       "    }\n",
       "</style>\n",
       "<table border=\"1\" class=\"dataframe\">\n",
       "  <thead>\n",
       "    <tr style=\"text-align: right;\">\n",
       "      <th></th>\n",
       "      <th>HolidaysTaken</th>\n",
       "      <th>PercentageOfCompletedTasks</th>\n",
       "      <th>CurrentJobDuration</th>\n",
       "      <th>RecentHolidaysTaken</th>\n",
       "      <th>RequestedProcessAmount</th>\n",
       "      <th>JobStatus</th>\n",
       "      <th>BondingRiskRating</th>\n",
       "      <th>TotalMaterialProcessed</th>\n",
       "      <th>ByproductRation</th>\n",
       "      <th>working_skills</th>\n",
       "      <th>CivilStatus</th>\n",
       "      <th>dependability</th>\n",
       "      <th>MistakesLastYear</th>\n",
       "      <th>HighestEducationAttained</th>\n",
       "      <th>BondingSuccessful</th>\n",
       "      <th>ChurnRisk</th>\n",
       "      <th>ProcessedKilograms</th>\n",
       "      <th>SkillRating</th>\n",
       "      <th>ProcessingTimestamp</th>\n",
       "      <th>WorkExperience</th>\n",
       "      <th>HistoricalBehavior</th>\n",
       "      <th>TotalMaterialToProcess</th>\n",
       "      <th>WorkHistoryDuration</th>\n",
       "      <th>ApplicantAge</th>\n",
       "      <th>PriorExecutionDefaults</th>\n",
       "      <th>DifferentTasksCompleted</th>\n",
       "      <th>TotalChurnRisk</th>\n",
       "      <th>OtherCompaniesMaterialProcessed</th>\n",
       "      <th>BondingPeriod</th>\n",
       "      <th>trustability</th>\n",
       "      <th>MonthlyExecutions</th>\n",
       "    </tr>\n",
       "  </thead>\n",
       "  <tbody>\n",
       "    <tr>\n",
       "      <th>0</th>\n",
       "      <td>4.0</td>\n",
       "      <td>NaN</td>\n",
       "      <td>6.0</td>\n",
       "      <td>1.0</td>\n",
       "      <td>51172.0</td>\n",
       "      <td>Employed</td>\n",
       "      <td>46.0</td>\n",
       "      <td>300388.0</td>\n",
       "      <td>0.273137</td>\n",
       "      <td>1.244120</td>\n",
       "      <td>Married</td>\n",
       "      <td>2.798099</td>\n",
       "      <td>0.0</td>\n",
       "      <td>Master</td>\n",
       "      <td>0.0</td>\n",
       "      <td>0.223172</td>\n",
       "      <td>44305.0</td>\n",
       "      <td>606.0</td>\n",
       "      <td>2055-07-29</td>\n",
       "      <td>48.0</td>\n",
       "      <td>23.0</td>\n",
       "      <td>14193.0</td>\n",
       "      <td>3.0</td>\n",
       "      <td>67.0</td>\n",
       "      <td>0.0</td>\n",
       "      <td>NaN</td>\n",
       "      <td>NaN</td>\n",
       "      <td>NaN</td>\n",
       "      <td>24.0</td>\n",
       "      <td>3.144274</td>\n",
       "      <td>440.0</td>\n",
       "    </tr>\n",
       "    <tr>\n",
       "      <th>1</th>\n",
       "      <td>1.0</td>\n",
       "      <td>0.323046</td>\n",
       "      <td>4.0</td>\n",
       "      <td>0.0</td>\n",
       "      <td>11246.0</td>\n",
       "      <td>Employed</td>\n",
       "      <td>54.0</td>\n",
       "      <td>299914.0</td>\n",
       "      <td>0.450387</td>\n",
       "      <td>2.228183</td>\n",
       "      <td>Married</td>\n",
       "      <td>2.586440</td>\n",
       "      <td>0.0</td>\n",
       "      <td>Bachelor</td>\n",
       "      <td>NaN</td>\n",
       "      <td>0.215746</td>\n",
       "      <td>NaN</td>\n",
       "      <td>561.0</td>\n",
       "      <td>2072-03-10</td>\n",
       "      <td>31.0</td>\n",
       "      <td>17.0</td>\n",
       "      <td>85355.0</td>\n",
       "      <td>28.0</td>\n",
       "      <td>52.0</td>\n",
       "      <td>NaN</td>\n",
       "      <td>0.0</td>\n",
       "      <td>0.232582</td>\n",
       "      <td>214559.0</td>\n",
       "      <td>36.0</td>\n",
       "      <td>3.704809</td>\n",
       "      <td>NaN</td>\n",
       "    </tr>\n",
       "    <tr>\n",
       "      <th>2</th>\n",
       "      <td>5.0</td>\n",
       "      <td>0.491574</td>\n",
       "      <td>3.0</td>\n",
       "      <td>1.0</td>\n",
       "      <td>14075.0</td>\n",
       "      <td>Employed</td>\n",
       "      <td>42.4</td>\n",
       "      <td>74687.0</td>\n",
       "      <td>0.325027</td>\n",
       "      <td>2.699264</td>\n",
       "      <td>Married</td>\n",
       "      <td>1.949641</td>\n",
       "      <td>0.0</td>\n",
       "      <td>Bachelor</td>\n",
       "      <td>1.0</td>\n",
       "      <td>0.256075</td>\n",
       "      <td>67954.0</td>\n",
       "      <td>NaN</td>\n",
       "      <td>2032-01-24</td>\n",
       "      <td>20.0</td>\n",
       "      <td>25.0</td>\n",
       "      <td>14006.0</td>\n",
       "      <td>NaN</td>\n",
       "      <td>45.0</td>\n",
       "      <td>0.0</td>\n",
       "      <td>0.0</td>\n",
       "      <td>0.240812</td>\n",
       "      <td>60681.0</td>\n",
       "      <td>60.0</td>\n",
       "      <td>2.427195</td>\n",
       "      <td>171.0</td>\n",
       "    </tr>\n",
       "    <tr>\n",
       "      <th>3</th>\n",
       "      <td>4.0</td>\n",
       "      <td>0.108916</td>\n",
       "      <td>3.0</td>\n",
       "      <td>1.0</td>\n",
       "      <td>18957.0</td>\n",
       "      <td>Employed</td>\n",
       "      <td>40.8</td>\n",
       "      <td>47866.0</td>\n",
       "      <td>NaN</td>\n",
       "      <td>0.445854</td>\n",
       "      <td>Married</td>\n",
       "      <td>1.569581</td>\n",
       "      <td>0.0</td>\n",
       "      <td>Bachelor</td>\n",
       "      <td>1.0</td>\n",
       "      <td>0.240457</td>\n",
       "      <td>98184.0</td>\n",
       "      <td>607.0</td>\n",
       "      <td>2029-11-12</td>\n",
       "      <td>19.0</td>\n",
       "      <td>32.0</td>\n",
       "      <td>13240.0</td>\n",
       "      <td>16.0</td>\n",
       "      <td>42.0</td>\n",
       "      <td>0.0</td>\n",
       "      <td>4.0</td>\n",
       "      <td>0.231520</td>\n",
       "      <td>34626.0</td>\n",
       "      <td>84.0</td>\n",
       "      <td>1.156431</td>\n",
       "      <td>212.0</td>\n",
       "    </tr>\n",
       "    <tr>\n",
       "      <th>4</th>\n",
       "      <td>NaN</td>\n",
       "      <td>0.174628</td>\n",
       "      <td>1.0</td>\n",
       "      <td>2.0</td>\n",
       "      <td>17902.0</td>\n",
       "      <td>Employed</td>\n",
       "      <td>51.0</td>\n",
       "      <td>18181.0</td>\n",
       "      <td>0.388317</td>\n",
       "      <td>1.940075</td>\n",
       "      <td>Single</td>\n",
       "      <td>2.149917</td>\n",
       "      <td>NaN</td>\n",
       "      <td>Associate</td>\n",
       "      <td>NaN</td>\n",
       "      <td>0.206902</td>\n",
       "      <td>48981.0</td>\n",
       "      <td>612.0</td>\n",
       "      <td>2031-08-22</td>\n",
       "      <td>28.0</td>\n",
       "      <td>14.0</td>\n",
       "      <td>44217.0</td>\n",
       "      <td>28.0</td>\n",
       "      <td>50.0</td>\n",
       "      <td>0.0</td>\n",
       "      <td>0.0</td>\n",
       "      <td>0.214425</td>\n",
       "      <td>4812.0</td>\n",
       "      <td>48.0</td>\n",
       "      <td>3.185402</td>\n",
       "      <td>323.0</td>\n",
       "    </tr>\n",
       "  </tbody>\n",
       "</table>\n",
       "</div>"
      ],
      "text/plain": [
       "   HolidaysTaken  PercentageOfCompletedTasks  CurrentJobDuration  \\\n",
       "0            4.0                         NaN                 6.0   \n",
       "1            1.0                    0.323046                 4.0   \n",
       "2            5.0                    0.491574                 3.0   \n",
       "3            4.0                    0.108916                 3.0   \n",
       "4            NaN                    0.174628                 1.0   \n",
       "\n",
       "   RecentHolidaysTaken  RequestedProcessAmount JobStatus  BondingRiskRating  \\\n",
       "0                  1.0                 51172.0  Employed               46.0   \n",
       "1                  0.0                 11246.0  Employed               54.0   \n",
       "2                  1.0                 14075.0  Employed               42.4   \n",
       "3                  1.0                 18957.0  Employed               40.8   \n",
       "4                  2.0                 17902.0  Employed               51.0   \n",
       "\n",
       "   TotalMaterialProcessed  ByproductRation  working_skills CivilStatus  \\\n",
       "0                300388.0         0.273137        1.244120     Married   \n",
       "1                299914.0         0.450387        2.228183     Married   \n",
       "2                 74687.0         0.325027        2.699264     Married   \n",
       "3                 47866.0              NaN        0.445854     Married   \n",
       "4                 18181.0         0.388317        1.940075      Single   \n",
       "\n",
       "   dependability  MistakesLastYear HighestEducationAttained  \\\n",
       "0       2.798099               0.0                   Master   \n",
       "1       2.586440               0.0                 Bachelor   \n",
       "2       1.949641               0.0                 Bachelor   \n",
       "3       1.569581               0.0                 Bachelor   \n",
       "4       2.149917               NaN                Associate   \n",
       "\n",
       "   BondingSuccessful  ChurnRisk  ProcessedKilograms  SkillRating  \\\n",
       "0                0.0   0.223172             44305.0        606.0   \n",
       "1                NaN   0.215746                 NaN        561.0   \n",
       "2                1.0   0.256075             67954.0          NaN   \n",
       "3                1.0   0.240457             98184.0        607.0   \n",
       "4                NaN   0.206902             48981.0        612.0   \n",
       "\n",
       "  ProcessingTimestamp  WorkExperience  HistoricalBehavior  \\\n",
       "0          2055-07-29            48.0                23.0   \n",
       "1          2072-03-10            31.0                17.0   \n",
       "2          2032-01-24            20.0                25.0   \n",
       "3          2029-11-12            19.0                32.0   \n",
       "4          2031-08-22            28.0                14.0   \n",
       "\n",
       "   TotalMaterialToProcess  WorkHistoryDuration  ApplicantAge  \\\n",
       "0                 14193.0                  3.0          67.0   \n",
       "1                 85355.0                 28.0          52.0   \n",
       "2                 14006.0                  NaN          45.0   \n",
       "3                 13240.0                 16.0          42.0   \n",
       "4                 44217.0                 28.0          50.0   \n",
       "\n",
       "   PriorExecutionDefaults  DifferentTasksCompleted  TotalChurnRisk  \\\n",
       "0                     0.0                      NaN             NaN   \n",
       "1                     NaN                      0.0        0.232582   \n",
       "2                     0.0                      0.0        0.240812   \n",
       "3                     0.0                      4.0        0.231520   \n",
       "4                     0.0                      0.0        0.214425   \n",
       "\n",
       "   OtherCompaniesMaterialProcessed  BondingPeriod  trustability  \\\n",
       "0                              NaN           24.0      3.144274   \n",
       "1                         214559.0           36.0      3.704809   \n",
       "2                          60681.0           60.0      2.427195   \n",
       "3                          34626.0           84.0      1.156431   \n",
       "4                           4812.0           48.0      3.185402   \n",
       "\n",
       "   MonthlyExecutions  \n",
       "0              440.0  \n",
       "1                NaN  \n",
       "2              171.0  \n",
       "3              212.0  \n",
       "4              323.0  "
      ]
     },
     "execution_count": 67,
     "metadata": {},
     "output_type": "execute_result"
    }
   ],
   "source": [
    "df.head()"
   ]
  },
  {
   "cell_type": "markdown",
   "metadata": {},
   "source": [
    "This visual representation of the data makes it easier to spot patterns and potential anomalies.\n",
    "\n",
    "To more efficiently identify all data threats, we will conduct a detailed analysis of each column."
   ]
  },
  {
   "cell_type": "markdown",
   "metadata": {},
   "source": [
    "#### Deeper evaluation on dataset features"
   ]
  },
  {
   "cell_type": "markdown",
   "metadata": {},
   "source": [
    "- **HolidaysTaken:** Integer of days taken for holiday by the worker, it can be NaN if the worker didn't take any days off, same as it would be for 0, it wouldn't affect any calculations, only rows with negative numbers if found should be excluded.\n",
    "- **PercentageOfCompletedTasks:** Float between 0 and 1, representing percentage(divided by 100) of completed tasks by worker, it can be NaN in case someone hasn't completed any given task, or in case it hasn't been assigned any work\n",
    "- **CurrentJobDuration:** Integer representing number of months worker has been working there, in case of NaN, negative or 0, row should be excluded.\n",
    "- **RecentHolidaysTaken:** Integer of days taken for recent holiday, it should be smaller or equal to HolidaysTaken, otherwise row should be excluded.\n",
    "- **RequestedProcessAmount:** Integer of amount of material requested for bonding process, NaN and anything smaller than 0 should be excluded.\n",
    "- **JobStatus:** Enum (object) for status of worker, in order to represent it we will be using One-Hot Encoding as we don't want to impose any ordering between categories, additionally it wouldn't impose big issues regarding memory usage as our dataset is not so big and we just have three categories, which makes it very suitable for this problem. Additionally, all NaNs should be excluded.\n",
    "- **BondingRiskRating:** Float between 0 and 100, indicating percentage associated to risk between bonding using certain materials or processes, NaNs can be used as zeros, anything out of range 0-100 should be consider as error and excluded.\n",
    "- **TotalMaterialProcessed:** Integer representing cumulative amount of materials used by worker or team of workers through bonding processes, zeros and negatives should be excluded.\n",
    "- **ByproductRation:** Float between 0 and 1, representing percentage(divided by 100) of byproducts generated bonding relative to total number of materials used, anything out of range or NaNs can be excluded.\n",
    "- **working_skills:** Float between 0 and 5, representing rating of a worker's skills, \n",
    "- **CivilStatus:** \n",
    "- **dependability:**"
   ]
  },
  {
   "cell_type": "markdown",
   "metadata": {},
   "source": [
    "#### Dataset description"
   ]
  },
  {
   "cell_type": "markdown",
   "metadata": {},
   "source": [
    "This section focuses on describing the dataset by examining its structure, data types, and statistical properties. The aim is to gain insights into data completeness and patterns, forming a basis for further analysis and preprocessing.\n",
    "\n",
    "To start, the dataset's dimensions are checked with:"
   ]
  },
  {
   "cell_type": "code",
   "execution_count": 68,
   "metadata": {},
   "outputs": [
    {
     "name": "stdout",
     "output_type": "stream",
     "text": [
      "Number of rows and columns: (20000, 31)\n"
     ]
    }
   ],
   "source": [
    "print(f\"Number of rows and columns: {df.shape}\")"
   ]
  },
  {
   "cell_type": "markdown",
   "metadata": {},
   "source": [
    "The dataset contains 20,000 rows and 31 columns, indicating a moderately large dataset. This size suggests sufficient data for robust analysis while remaining computationally manageable.\n",
    "\n",
    "The structure of the dataset is examined next:"
   ]
  },
  {
   "cell_type": "code",
   "execution_count": 69,
   "metadata": {},
   "outputs": [
    {
     "name": "stdout",
     "output_type": "stream",
     "text": [
      "Data Types and Missing Values:\n",
      "<class 'pandas.core.frame.DataFrame'>\n",
      "RangeIndex: 20000 entries, 0 to 19999\n",
      "Data columns (total 31 columns):\n",
      " #   Column                           Non-Null Count  Dtype  \n",
      "---  ------                           --------------  -----  \n",
      " 0   HolidaysTaken                    18095 non-null  float64\n",
      " 1   PercentageOfCompletedTasks       17955 non-null  float64\n",
      " 2   CurrentJobDuration               17952 non-null  float64\n",
      " 3   RecentHolidaysTaken              18031 non-null  float64\n",
      " 4   RequestedProcessAmount           17925 non-null  float64\n",
      " 5   JobStatus                        17982 non-null  object \n",
      " 6   BondingRiskRating                17950 non-null  float64\n",
      " 7   TotalMaterialProcessed           17957 non-null  float64\n",
      " 8   ByproductRation                  18028 non-null  float64\n",
      " 9   working_skills                   18034 non-null  float64\n",
      " 10  CivilStatus                      18046 non-null  object \n",
      " 11  dependability                    18051 non-null  float64\n",
      " 12  MistakesLastYear                 18013 non-null  float64\n",
      " 13  HighestEducationAttained         17937 non-null  object \n",
      " 14  BondingSuccessful                17997 non-null  float64\n",
      " 15  ChurnRisk                        17928 non-null  float64\n",
      " 16  ProcessedKilograms               18046 non-null  float64\n",
      " 17  SkillRating                      18033 non-null  float64\n",
      " 18  ProcessingTimestamp              17977 non-null  object \n",
      " 19  WorkExperience                   18069 non-null  float64\n",
      " 20  HistoricalBehavior               17991 non-null  float64\n",
      " 21  TotalMaterialToProcess           18045 non-null  float64\n",
      " 22  WorkHistoryDuration              17998 non-null  float64\n",
      " 23  ApplicantAge                     17932 non-null  float64\n",
      " 24  PriorExecutionDefaults           17945 non-null  float64\n",
      " 25  DifferentTasksCompleted          18049 non-null  float64\n",
      " 26  TotalChurnRisk                   18012 non-null  float64\n",
      " 27  OtherCompaniesMaterialProcessed  17995 non-null  float64\n",
      " 28  BondingPeriod                    17956 non-null  float64\n",
      " 29  trustability                     18025 non-null  float64\n",
      " 30  MonthlyExecutions                18016 non-null  float64\n",
      "dtypes: float64(27), object(4)\n",
      "memory usage: 4.7+ MB\n",
      "None\n"
     ]
    }
   ],
   "source": [
    "print(\"Data Types and Missing Values:\")\n",
    "print(df.info())"
   ]
  },
  {
   "cell_type": "markdown",
   "metadata": {},
   "source": [
    "This code provides an overview of data types, missing values, and memory usage. The dataset has 27 numerical (float64) columns and 4 categorical (object) columns, using approximately 4.7 MB of memory. Missing values are observed across multiple columns, such as HolidaysTaken (1,905 missing) and RequestedProcessAmount (1,075 missing). These gaps may require imputation or exclusion during preprocessing. Additionally, columns like ProcessingTimestamp are categorical but may need conversion to datetime format for temporal analysis."
   ]
  },
  {
   "cell_type": "code",
   "execution_count": 70,
   "metadata": {},
   "outputs": [],
   "source": [
    "df['ProcessingTimestamp'] = pd.to_datetime(df['ProcessingTimestamp'])"
   ]
  },
  {
   "cell_type": "markdown",
   "metadata": {},
   "source": [
    "This ensures timestamps are treated as datetime objects, enabling proper time-based analysis and feature extraction.\n",
    "\n",
    "Descriptive statistics for numerical columns are obtained with:"
   ]
  },
  {
   "cell_type": "code",
   "execution_count": 71,
   "metadata": {},
   "outputs": [
    {
     "data": {
      "text/html": [
       "<div>\n",
       "<style scoped>\n",
       "    .dataframe tbody tr th:only-of-type {\n",
       "        vertical-align: middle;\n",
       "    }\n",
       "\n",
       "    .dataframe tbody tr th {\n",
       "        vertical-align: top;\n",
       "    }\n",
       "\n",
       "    .dataframe thead th {\n",
       "        text-align: right;\n",
       "    }\n",
       "</style>\n",
       "<table border=\"1\" class=\"dataframe\">\n",
       "  <thead>\n",
       "    <tr style=\"text-align: right;\">\n",
       "      <th></th>\n",
       "      <th>HolidaysTaken</th>\n",
       "      <th>PercentageOfCompletedTasks</th>\n",
       "      <th>CurrentJobDuration</th>\n",
       "      <th>RecentHolidaysTaken</th>\n",
       "      <th>RequestedProcessAmount</th>\n",
       "      <th>BondingRiskRating</th>\n",
       "      <th>TotalMaterialProcessed</th>\n",
       "      <th>ByproductRation</th>\n",
       "      <th>working_skills</th>\n",
       "      <th>dependability</th>\n",
       "      <th>MistakesLastYear</th>\n",
       "      <th>BondingSuccessful</th>\n",
       "      <th>ChurnRisk</th>\n",
       "      <th>ProcessedKilograms</th>\n",
       "      <th>SkillRating</th>\n",
       "      <th>ProcessingTimestamp</th>\n",
       "      <th>WorkExperience</th>\n",
       "      <th>HistoricalBehavior</th>\n",
       "      <th>TotalMaterialToProcess</th>\n",
       "      <th>WorkHistoryDuration</th>\n",
       "      <th>ApplicantAge</th>\n",
       "      <th>PriorExecutionDefaults</th>\n",
       "      <th>DifferentTasksCompleted</th>\n",
       "      <th>TotalChurnRisk</th>\n",
       "      <th>OtherCompaniesMaterialProcessed</th>\n",
       "      <th>BondingPeriod</th>\n",
       "      <th>trustability</th>\n",
       "      <th>MonthlyExecutions</th>\n",
       "    </tr>\n",
       "  </thead>\n",
       "  <tbody>\n",
       "    <tr>\n",
       "      <th>count</th>\n",
       "      <td>18095.000000</td>\n",
       "      <td>17955.000000</td>\n",
       "      <td>17952.000000</td>\n",
       "      <td>18031.000000</td>\n",
       "      <td>17925.00000</td>\n",
       "      <td>17950.000000</td>\n",
       "      <td>1.795700e+04</td>\n",
       "      <td>18028.000000</td>\n",
       "      <td>18034.000000</td>\n",
       "      <td>18051.000000</td>\n",
       "      <td>18013.000000</td>\n",
       "      <td>17997.000000</td>\n",
       "      <td>17928.000000</td>\n",
       "      <td>18046.000000</td>\n",
       "      <td>18033.000000</td>\n",
       "      <td>17977</td>\n",
       "      <td>18069.000000</td>\n",
       "      <td>17991.000000</td>\n",
       "      <td>1.804500e+04</td>\n",
       "      <td>17998.000000</td>\n",
       "      <td>17932.000000</td>\n",
       "      <td>17945.000000</td>\n",
       "      <td>18049.000000</td>\n",
       "      <td>18012.000000</td>\n",
       "      <td>1.799500e+04</td>\n",
       "      <td>17956.000000</td>\n",
       "      <td>18025.000000</td>\n",
       "      <td>18016.000000</td>\n",
       "    </tr>\n",
       "    <tr>\n",
       "      <th>mean</th>\n",
       "      <td>3.026748</td>\n",
       "      <td>0.285759</td>\n",
       "      <td>5.009693</td>\n",
       "      <td>0.994454</td>\n",
       "      <td>24897.92675</td>\n",
       "      <td>50.762841</td>\n",
       "      <td>9.672291e+04</td>\n",
       "      <td>0.286063</td>\n",
       "      <td>2.360612</td>\n",
       "      <td>2.374670</td>\n",
       "      <td>0.052129</td>\n",
       "      <td>0.239318</td>\n",
       "      <td>0.239193</td>\n",
       "      <td>59189.375651</td>\n",
       "      <td>571.738479</td>\n",
       "      <td>2045-05-18 14:31:30.816042496</td>\n",
       "      <td>17.466379</td>\n",
       "      <td>24.015730</td>\n",
       "      <td>3.625984e+04</td>\n",
       "      <td>14.935271</td>\n",
       "      <td>39.765391</td>\n",
       "      <td>0.099916</td>\n",
       "      <td>1.512494</td>\n",
       "      <td>0.239262</td>\n",
       "      <td>7.189570e+04</td>\n",
       "      <td>54.048786</td>\n",
       "      <td>2.267341</td>\n",
       "      <td>454.077875</td>\n",
       "    </tr>\n",
       "    <tr>\n",
       "      <th>min</th>\n",
       "      <td>0.000000</td>\n",
       "      <td>0.000974</td>\n",
       "      <td>0.000000</td>\n",
       "      <td>0.000000</td>\n",
       "      <td>3674.00000</td>\n",
       "      <td>28.800000</td>\n",
       "      <td>2.098000e+03</td>\n",
       "      <td>0.001720</td>\n",
       "      <td>0.000000</td>\n",
       "      <td>0.000000</td>\n",
       "      <td>0.000000</td>\n",
       "      <td>0.000000</td>\n",
       "      <td>0.130101</td>\n",
       "      <td>15000.000000</td>\n",
       "      <td>362.000000</td>\n",
       "      <td>2018-01-01 00:00:00</td>\n",
       "      <td>0.000000</td>\n",
       "      <td>8.000000</td>\n",
       "      <td>3.720000e+02</td>\n",
       "      <td>1.000000</td>\n",
       "      <td>18.000000</td>\n",
       "      <td>0.000000</td>\n",
       "      <td>0.000000</td>\n",
       "      <td>0.113310</td>\n",
       "      <td>1.000000e+03</td>\n",
       "      <td>12.000000</td>\n",
       "      <td>0.000000</td>\n",
       "      <td>50.000000</td>\n",
       "    </tr>\n",
       "    <tr>\n",
       "      <th>25%</th>\n",
       "      <td>2.000000</td>\n",
       "      <td>0.160089</td>\n",
       "      <td>3.000000</td>\n",
       "      <td>0.000000</td>\n",
       "      <td>15607.00000</td>\n",
       "      <td>46.000000</td>\n",
       "      <td>3.103100e+04</td>\n",
       "      <td>0.161822</td>\n",
       "      <td>1.679249</td>\n",
       "      <td>1.693475</td>\n",
       "      <td>0.000000</td>\n",
       "      <td>0.000000</td>\n",
       "      <td>0.213940</td>\n",
       "      <td>31686.750000</td>\n",
       "      <td>540.000000</td>\n",
       "      <td>2031-09-05 00:00:00</td>\n",
       "      <td>9.000000</td>\n",
       "      <td>21.000000</td>\n",
       "      <td>1.120500e+04</td>\n",
       "      <td>8.000000</td>\n",
       "      <td>32.000000</td>\n",
       "      <td>0.000000</td>\n",
       "      <td>0.000000</td>\n",
       "      <td>0.209493</td>\n",
       "      <td>8.751000e+03</td>\n",
       "      <td>36.000000</td>\n",
       "      <td>1.576158</td>\n",
       "      <td>285.000000</td>\n",
       "    </tr>\n",
       "    <tr>\n",
       "      <th>50%</th>\n",
       "      <td>3.000000</td>\n",
       "      <td>0.266699</td>\n",
       "      <td>5.000000</td>\n",
       "      <td>1.000000</td>\n",
       "      <td>21916.00000</td>\n",
       "      <td>52.000000</td>\n",
       "      <td>6.062800e+04</td>\n",
       "      <td>0.264880</td>\n",
       "      <td>2.363138</td>\n",
       "      <td>2.376003</td>\n",
       "      <td>0.000000</td>\n",
       "      <td>0.000000</td>\n",
       "      <td>0.236365</td>\n",
       "      <td>48604.500000</td>\n",
       "      <td>578.000000</td>\n",
       "      <td>2045-05-24 00:00:00</td>\n",
       "      <td>17.000000</td>\n",
       "      <td>24.000000</td>\n",
       "      <td>2.218500e+04</td>\n",
       "      <td>15.000000</td>\n",
       "      <td>40.000000</td>\n",
       "      <td>0.000000</td>\n",
       "      <td>1.000000</td>\n",
       "      <td>0.235677</td>\n",
       "      <td>3.299400e+04</td>\n",
       "      <td>48.000000</td>\n",
       "      <td>2.266800</td>\n",
       "      <td>401.500000</td>\n",
       "    </tr>\n",
       "    <tr>\n",
       "      <th>75%</th>\n",
       "      <td>4.000000</td>\n",
       "      <td>0.390030</td>\n",
       "      <td>6.000000</td>\n",
       "      <td>2.000000</td>\n",
       "      <td>30790.00000</td>\n",
       "      <td>56.000000</td>\n",
       "      <td>1.165370e+05</td>\n",
       "      <td>0.390876</td>\n",
       "      <td>3.033026</td>\n",
       "      <td>3.057523</td>\n",
       "      <td>0.000000</td>\n",
       "      <td>0.000000</td>\n",
       "      <td>0.261571</td>\n",
       "      <td>74448.750000</td>\n",
       "      <td>609.000000</td>\n",
       "      <td>2059-01-22 00:00:00</td>\n",
       "      <td>25.000000</td>\n",
       "      <td>27.000000</td>\n",
       "      <td>4.318700e+04</td>\n",
       "      <td>22.000000</td>\n",
       "      <td>48.000000</td>\n",
       "      <td>0.000000</td>\n",
       "      <td>2.000000</td>\n",
       "      <td>0.265616</td>\n",
       "      <td>8.882900e+04</td>\n",
       "      <td>72.000000</td>\n",
       "      <td>2.942800</td>\n",
       "      <td>564.250000</td>\n",
       "    </tr>\n",
       "    <tr>\n",
       "      <th>max</th>\n",
       "      <td>13.000000</td>\n",
       "      <td>0.878564</td>\n",
       "      <td>16.000000</td>\n",
       "      <td>7.000000</td>\n",
       "      <td>184732.00000</td>\n",
       "      <td>84.000000</td>\n",
       "      <td>2.619627e+06</td>\n",
       "      <td>0.902253</td>\n",
       "      <td>5.000000</td>\n",
       "      <td>5.000000</td>\n",
       "      <td>1.000000</td>\n",
       "      <td>1.000000</td>\n",
       "      <td>0.405029</td>\n",
       "      <td>485341.000000</td>\n",
       "      <td>712.000000</td>\n",
       "      <td>2072-10-03 00:00:00</td>\n",
       "      <td>61.000000</td>\n",
       "      <td>45.000000</td>\n",
       "      <td>1.417302e+06</td>\n",
       "      <td>29.000000</td>\n",
       "      <td>80.000000</td>\n",
       "      <td>1.000000</td>\n",
       "      <td>5.000000</td>\n",
       "      <td>0.446787</td>\n",
       "      <td>2.603208e+06</td>\n",
       "      <td>120.000000</td>\n",
       "      <td>5.000000</td>\n",
       "      <td>2919.000000</td>\n",
       "    </tr>\n",
       "    <tr>\n",
       "      <th>std</th>\n",
       "      <td>1.735829</td>\n",
       "      <td>0.159537</td>\n",
       "      <td>2.241757</td>\n",
       "      <td>0.988381</td>\n",
       "      <td>13437.67965</td>\n",
       "      <td>7.773452</td>\n",
       "      <td>1.211621e+05</td>\n",
       "      <td>0.159942</td>\n",
       "      <td>0.991873</td>\n",
       "      <td>0.988894</td>\n",
       "      <td>0.222293</td>\n",
       "      <td>0.426679</td>\n",
       "      <td>0.035545</td>\n",
       "      <td>40340.017213</td>\n",
       "      <td>50.955495</td>\n",
       "      <td>NaN</td>\n",
       "      <td>11.314968</td>\n",
       "      <td>4.953001</td>\n",
       "      <td>4.743086e+04</td>\n",
       "      <td>8.374611</td>\n",
       "      <td>11.636018</td>\n",
       "      <td>0.299897</td>\n",
       "      <td>1.386266</td>\n",
       "      <td>0.042192</td>\n",
       "      <td>1.152880e+05</td>\n",
       "      <td>24.696770</td>\n",
       "      <td>0.984234</td>\n",
       "      <td>240.438963</td>\n",
       "    </tr>\n",
       "  </tbody>\n",
       "</table>\n",
       "</div>"
      ],
      "text/plain": [
       "       HolidaysTaken  PercentageOfCompletedTasks  CurrentJobDuration  \\\n",
       "count   18095.000000                17955.000000        17952.000000   \n",
       "mean        3.026748                    0.285759            5.009693   \n",
       "min         0.000000                    0.000974            0.000000   \n",
       "25%         2.000000                    0.160089            3.000000   \n",
       "50%         3.000000                    0.266699            5.000000   \n",
       "75%         4.000000                    0.390030            6.000000   \n",
       "max        13.000000                    0.878564           16.000000   \n",
       "std         1.735829                    0.159537            2.241757   \n",
       "\n",
       "       RecentHolidaysTaken  RequestedProcessAmount  BondingRiskRating  \\\n",
       "count         18031.000000             17925.00000       17950.000000   \n",
       "mean              0.994454             24897.92675          50.762841   \n",
       "min               0.000000              3674.00000          28.800000   \n",
       "25%               0.000000             15607.00000          46.000000   \n",
       "50%               1.000000             21916.00000          52.000000   \n",
       "75%               2.000000             30790.00000          56.000000   \n",
       "max               7.000000            184732.00000          84.000000   \n",
       "std               0.988381             13437.67965           7.773452   \n",
       "\n",
       "       TotalMaterialProcessed  ByproductRation  working_skills  dependability  \\\n",
       "count            1.795700e+04     18028.000000    18034.000000   18051.000000   \n",
       "mean             9.672291e+04         0.286063        2.360612       2.374670   \n",
       "min              2.098000e+03         0.001720        0.000000       0.000000   \n",
       "25%              3.103100e+04         0.161822        1.679249       1.693475   \n",
       "50%              6.062800e+04         0.264880        2.363138       2.376003   \n",
       "75%              1.165370e+05         0.390876        3.033026       3.057523   \n",
       "max              2.619627e+06         0.902253        5.000000       5.000000   \n",
       "std              1.211621e+05         0.159942        0.991873       0.988894   \n",
       "\n",
       "       MistakesLastYear  BondingSuccessful     ChurnRisk  ProcessedKilograms  \\\n",
       "count      18013.000000       17997.000000  17928.000000        18046.000000   \n",
       "mean           0.052129           0.239318      0.239193        59189.375651   \n",
       "min            0.000000           0.000000      0.130101        15000.000000   \n",
       "25%            0.000000           0.000000      0.213940        31686.750000   \n",
       "50%            0.000000           0.000000      0.236365        48604.500000   \n",
       "75%            0.000000           0.000000      0.261571        74448.750000   \n",
       "max            1.000000           1.000000      0.405029       485341.000000   \n",
       "std            0.222293           0.426679      0.035545        40340.017213   \n",
       "\n",
       "        SkillRating            ProcessingTimestamp  WorkExperience  \\\n",
       "count  18033.000000                          17977    18069.000000   \n",
       "mean     571.738479  2045-05-18 14:31:30.816042496       17.466379   \n",
       "min      362.000000            2018-01-01 00:00:00        0.000000   \n",
       "25%      540.000000            2031-09-05 00:00:00        9.000000   \n",
       "50%      578.000000            2045-05-24 00:00:00       17.000000   \n",
       "75%      609.000000            2059-01-22 00:00:00       25.000000   \n",
       "max      712.000000            2072-10-03 00:00:00       61.000000   \n",
       "std       50.955495                            NaN       11.314968   \n",
       "\n",
       "       HistoricalBehavior  TotalMaterialToProcess  WorkHistoryDuration  \\\n",
       "count        17991.000000            1.804500e+04         17998.000000   \n",
       "mean            24.015730            3.625984e+04            14.935271   \n",
       "min              8.000000            3.720000e+02             1.000000   \n",
       "25%             21.000000            1.120500e+04             8.000000   \n",
       "50%             24.000000            2.218500e+04            15.000000   \n",
       "75%             27.000000            4.318700e+04            22.000000   \n",
       "max             45.000000            1.417302e+06            29.000000   \n",
       "std              4.953001            4.743086e+04             8.374611   \n",
       "\n",
       "       ApplicantAge  PriorExecutionDefaults  DifferentTasksCompleted  \\\n",
       "count  17932.000000            17945.000000             18049.000000   \n",
       "mean      39.765391                0.099916                 1.512494   \n",
       "min       18.000000                0.000000                 0.000000   \n",
       "25%       32.000000                0.000000                 0.000000   \n",
       "50%       40.000000                0.000000                 1.000000   \n",
       "75%       48.000000                0.000000                 2.000000   \n",
       "max       80.000000                1.000000                 5.000000   \n",
       "std       11.636018                0.299897                 1.386266   \n",
       "\n",
       "       TotalChurnRisk  OtherCompaniesMaterialProcessed  BondingPeriod  \\\n",
       "count    18012.000000                     1.799500e+04   17956.000000   \n",
       "mean         0.239262                     7.189570e+04      54.048786   \n",
       "min          0.113310                     1.000000e+03      12.000000   \n",
       "25%          0.209493                     8.751000e+03      36.000000   \n",
       "50%          0.235677                     3.299400e+04      48.000000   \n",
       "75%          0.265616                     8.882900e+04      72.000000   \n",
       "max          0.446787                     2.603208e+06     120.000000   \n",
       "std          0.042192                     1.152880e+05      24.696770   \n",
       "\n",
       "       trustability  MonthlyExecutions  \n",
       "count  18025.000000       18016.000000  \n",
       "mean       2.267341         454.077875  \n",
       "min        0.000000          50.000000  \n",
       "25%        1.576158         285.000000  \n",
       "50%        2.266800         401.500000  \n",
       "75%        2.942800         564.250000  \n",
       "max        5.000000        2919.000000  \n",
       "std        0.984234         240.438963  "
      ]
     },
     "execution_count": 71,
     "metadata": {},
     "output_type": "execute_result"
    }
   ],
   "source": [
    "df.describe()"
   ]
  },
  {
   "cell_type": "markdown",
   "metadata": {},
   "source": [
    "Key observations found in the output are:\n",
    "\n",
    "- ApplicantAge: Average age of approximately 40 years, ranging from 18 to 80, suggesting a diverse age distribution.\n",
    "- ProcessedKilograms: Highly variable with a mean of 59,189 and a maximum of 485,341, indicating differing work performance levels.\n",
    "- DifferentTasksCompleted: Mean of 1.51, with a maximum of 5, showing limited variability in task completion.\n",
    "- BondingRiskRating: Mean of 50.76 with a narrow standard deviation of 7.77, implying consistent risk assessments.\n",
    "- ChurnRisk: Low mean of 0.24, but with occasional outliers up to 0.41.\n",
    "- For categorical columns, additional statistics are generated:"
   ]
  },
  {
   "cell_type": "code",
   "execution_count": 72,
   "metadata": {},
   "outputs": [
    {
     "data": {
      "text/html": [
       "<div>\n",
       "<style scoped>\n",
       "    .dataframe tbody tr th:only-of-type {\n",
       "        vertical-align: middle;\n",
       "    }\n",
       "\n",
       "    .dataframe tbody tr th {\n",
       "        vertical-align: top;\n",
       "    }\n",
       "\n",
       "    .dataframe thead th {\n",
       "        text-align: right;\n",
       "    }\n",
       "</style>\n",
       "<table border=\"1\" class=\"dataframe\">\n",
       "  <thead>\n",
       "    <tr style=\"text-align: right;\">\n",
       "      <th></th>\n",
       "      <th>JobStatus</th>\n",
       "      <th>CivilStatus</th>\n",
       "      <th>HighestEducationAttained</th>\n",
       "    </tr>\n",
       "  </thead>\n",
       "  <tbody>\n",
       "    <tr>\n",
       "      <th>count</th>\n",
       "      <td>17982</td>\n",
       "      <td>18046</td>\n",
       "      <td>17937</td>\n",
       "    </tr>\n",
       "    <tr>\n",
       "      <th>unique</th>\n",
       "      <td>3</td>\n",
       "      <td>4</td>\n",
       "      <td>5</td>\n",
       "    </tr>\n",
       "    <tr>\n",
       "      <th>top</th>\n",
       "      <td>Employed</td>\n",
       "      <td>Married</td>\n",
       "      <td>Bachelor</td>\n",
       "    </tr>\n",
       "    <tr>\n",
       "      <th>freq</th>\n",
       "      <td>15316</td>\n",
       "      <td>9082</td>\n",
       "      <td>5393</td>\n",
       "    </tr>\n",
       "  </tbody>\n",
       "</table>\n",
       "</div>"
      ],
      "text/plain": [
       "       JobStatus CivilStatus HighestEducationAttained\n",
       "count      17982       18046                    17937\n",
       "unique         3           4                        5\n",
       "top     Employed     Married                 Bachelor\n",
       "freq       15316        9082                     5393"
      ]
     },
     "execution_count": 72,
     "metadata": {},
     "output_type": "execute_result"
    }
   ],
   "source": [
    "df.describe(include='object')"
   ]
  },
  {
   "cell_type": "markdown",
   "metadata": {},
   "source": [
    "This output summarizes unique values and frequencies in non-numerical columns. Key insights:\n",
    "\n",
    "- JobStatus: Predominantly \"Employed\" (15,316 entries), followed by two other categories.\n",
    "- CivilStatus: Most respondents are \"Married\" (9,082 entries), followed by other statuses.\n",
    "- HighestEducationAttained: Majority hold a \"Bachelor\" degree (5,393 entries), with variations across education levels.\n",
    "- ProcessingTimestamp: Unique timestamps imply each record is associated with a specific process event.\n",
    "\n",
    "This descriptive analysis clarifies the dataset's structure and highlights areas needing preprocessing, such as handling missing values, scaling numerical data, and encoding categorical features. These insights guide the preparation steps necessary for building effective models."
   ]
  },
  {
   "cell_type": "markdown",
   "metadata": {},
   "source": [
    "### Checking data integrity"
   ]
  },
  {
   "cell_type": "markdown",
   "metadata": {},
   "source": [
    "#### Identifying missing values\n",
    "To identify all missing values in the dataset:\n"
   ]
  },
  {
   "cell_type": "code",
   "execution_count": 73,
   "metadata": {},
   "outputs": [
    {
     "name": "stdout",
     "output_type": "stream",
     "text": [
      "HolidaysTaken                      1905\n",
      "PercentageOfCompletedTasks         2045\n",
      "CurrentJobDuration                 2048\n",
      "RecentHolidaysTaken                1969\n",
      "RequestedProcessAmount             2075\n",
      "JobStatus                          2018\n",
      "BondingRiskRating                  2050\n",
      "TotalMaterialProcessed             2043\n",
      "ByproductRation                    1972\n",
      "working_skills                     1966\n",
      "CivilStatus                        1954\n",
      "dependability                      1949\n",
      "MistakesLastYear                   1987\n",
      "HighestEducationAttained           2063\n",
      "BondingSuccessful                  2003\n",
      "ChurnRisk                          2072\n",
      "ProcessedKilograms                 1954\n",
      "SkillRating                        1967\n",
      "ProcessingTimestamp                2023\n",
      "WorkExperience                     1931\n",
      "HistoricalBehavior                 2009\n",
      "TotalMaterialToProcess             1955\n",
      "WorkHistoryDuration                2002\n",
      "ApplicantAge                       2068\n",
      "PriorExecutionDefaults             2055\n",
      "DifferentTasksCompleted            1951\n",
      "TotalChurnRisk                     1988\n",
      "OtherCompaniesMaterialProcessed    2005\n",
      "BondingPeriod                      2044\n",
      "trustability                       1975\n",
      "MonthlyExecutions                  1984\n",
      "dtype: int64\n"
     ]
    }
   ],
   "source": [
    "missing_values = df.isnull().sum()\n",
    "print(missing_values[missing_values > 0])"
   ]
  },
  {
   "cell_type": "markdown",
   "metadata": {},
   "source": [
    "#### Missing rates and distribution of missing rates\n",
    "To analyze the proportion of missing data:"
   ]
  },
  {
   "cell_type": "code",
   "execution_count": 74,
   "metadata": {},
   "outputs": [
    {
     "name": "stdout",
     "output_type": "stream",
     "text": [
      "RequestedProcessAmount             10.375\n",
      "ChurnRisk                          10.360\n",
      "ApplicantAge                       10.340\n",
      "HighestEducationAttained           10.315\n",
      "PriorExecutionDefaults             10.275\n",
      "BondingRiskRating                  10.250\n",
      "CurrentJobDuration                 10.240\n",
      "PercentageOfCompletedTasks         10.225\n",
      "BondingPeriod                      10.220\n",
      "TotalMaterialProcessed             10.215\n",
      "ProcessingTimestamp                10.115\n",
      "JobStatus                          10.090\n",
      "HistoricalBehavior                 10.045\n",
      "OtherCompaniesMaterialProcessed    10.025\n",
      "BondingSuccessful                  10.015\n",
      "WorkHistoryDuration                10.010\n",
      "TotalChurnRisk                      9.940\n",
      "MistakesLastYear                    9.935\n",
      "MonthlyExecutions                   9.920\n",
      "trustability                        9.875\n",
      "ByproductRation                     9.860\n",
      "RecentHolidaysTaken                 9.845\n",
      "SkillRating                         9.835\n",
      "working_skills                      9.830\n",
      "TotalMaterialToProcess              9.775\n",
      "CivilStatus                         9.770\n",
      "ProcessedKilograms                  9.770\n",
      "DifferentTasksCompleted             9.755\n",
      "dependability                       9.745\n",
      "WorkExperience                      9.655\n",
      "HolidaysTaken                       9.525\n",
      "dtype: float64\n"
     ]
    }
   ],
   "source": [
    "missing_percentage = (df.isnull().sum() / len(df)) * 100\n",
    "print(missing_percentage[missing_percentage > 0].sort_values(ascending=False))"
   ]
  },
  {
   "cell_type": "markdown",
   "metadata": {},
   "source": [
    "This highlights columns with the highest percentages of missing values, providing insight into whether missingness might affect analysis significantly.\n",
    "\n",
    "To visualize the distribution of missing rates across all columns:"
   ]
  },
  {
   "cell_type": "code",
   "execution_count": 75,
   "metadata": {},
   "outputs": [
    {
     "data": {
      "image/png": "[encoded data removed]",
      "text/plain": [
       "<Figure size 1000x600 with 1 Axes>"
      ]
     },
     "metadata": {},
     "output_type": "display_data"
    }
   ],
   "source": [
    "plt.figure(figsize=(10, 6))\n",
    "sns.histplot(missing_percentage, bins=10, kde=True, color='teal')\n",
    "plt.title('Distribution of Missing Data Rates Across Columns')\n",
    "plt.xlabel('Missing Rate (%)')\n",
    "plt.ylabel('Frequency')\n",
    "plt.grid(True)\n",
    "plt.show()"
   ]
  },
  {
   "cell_type": "markdown",
   "metadata": {},
   "source": [
    "This visualization shows how missingness is distributed across the dataset. Most columns have missing rates around 10%, suggesting a uniform pattern of missing values.\n",
    "\n",
    "Further Distribution Analysis\n",
    "\n",
    "In addition to the overall distribution of missing rates, it is useful to examine:\n",
    "\n",
    "**Relationship Between Missing Values:** Identify if certain columns tend to have missing values simultaneously:"
   ]
  },
  {
   "cell_type": "code",
   "execution_count": 76,
   "metadata": {},
   "outputs": [
    {
     "data": {
      "image/png": "[encoded data removed]",
      "text/plain": [
       "<Figure size 640x480 with 2 Axes>"
      ]
     },
     "metadata": {},
     "output_type": "display_data"
    }
   ],
   "source": [
    "missing_correlation = df.isnull().corr()\n",
    "sns.heatmap(missing_correlation, annot=False, cmap='coolwarm')\n",
    "plt.title('Correlation of Missing Values Across Columns')\n",
    "plt.show()"
   ]
  },
  {
   "cell_type": "markdown",
   "metadata": {},
   "source": [
    "As it can be seen from the heatmap, missingness of data doesn't have any systematicness, but rather fully rely on random low level correlation."
   ]
  },
  {
   "cell_type": "markdown",
   "metadata": {},
   "source": [
    "#### Handling of missing data"
   ]
  },
  {
   "cell_type": "markdown",
   "metadata": {},
   "source": [
    "To handle missing data, the following steps are implemented:\n",
    "\n",
    "We decided to use cleaning methods by removing rows with missing values instead of alternative methods (e.g., imputation) since the missing percentages in all columns are consistently around 10%. This approach ensures that the dataset structure remains intact and avoids disrupting the overall data distribution. However, this decision assumes that the dataset's reduced size after cleaning will still provide sufficient data for robust analysis.\n",
    "\n",
    "1. Calculate Total Missing Data Before Cleaning:"
   ]
  },
  {
   "cell_type": "code",
   "execution_count": 77,
   "metadata": {},
   "outputs": [
    {
     "name": "stdout",
     "output_type": "stream",
     "text": [
      "Total missing values before cleaning: 62030\n"
     ]
    }
   ],
   "source": [
    "total_missing_before = df.isnull().sum().sum()\n",
    "print(f\"Total missing values before cleaning: {total_missing_before}\")"
   ]
  },
  {
   "cell_type": "markdown",
   "metadata": {},
   "source": [
    "2. Remove Rows with Missing Values:"
   ]
  },
  {
   "cell_type": "code",
   "execution_count": 78,
   "metadata": {},
   "outputs": [],
   "source": [
    "df_cleaned = df.dropna()"
   ]
  },
  {
   "cell_type": "markdown",
   "metadata": {},
   "source": [
    "3. Calculate Total Missing Data After Cleaning:"
   ]
  },
  {
   "cell_type": "code",
   "execution_count": 79,
   "metadata": {},
   "outputs": [
    {
     "name": "stdout",
     "output_type": "stream",
     "text": [
      "Total missing values after cleaning: 0\n"
     ]
    }
   ],
   "source": [
    "total_missing_after = df_cleaned.isnull().sum().sum()\n",
    "print(f\"Total missing values after cleaning: {total_missing_after}\")"
   ]
  },
  {
   "cell_type": "markdown",
   "metadata": {},
   "source": [
    "4. Check if Missing Data Persists:"
   ]
  },
  {
   "cell_type": "code",
   "execution_count": 80,
   "metadata": {},
   "outputs": [
    {
     "name": "stdout",
     "output_type": "stream",
     "text": [
      "Columns with missing values after cleaning:\n",
      "Series([], dtype: int64)\n"
     ]
    }
   ],
   "source": [
    "print(\"Columns with missing values after cleaning:\")\n",
    "print(df_cleaned.isnull().sum()[df_cleaned.isnull().sum() > 0])"
   ]
  },
  {
   "cell_type": "markdown",
   "metadata": {},
   "source": [
    "By removing rows with missing values, we ensure that the dataset is free of incomplete data. This step significantly reduces the dataset size but preserves data integrity for analysis. This process ensures the dataset is cleaned of missing values while exploring alternative strategies to preserve information."
   ]
  },
  {
   "cell_type": "markdown",
   "metadata": {},
   "source": [
    "#### Analysis of potential irrelevant data"
   ]
  },
  {
   "cell_type": "markdown",
   "metadata": {},
   "source": [
    "This section focuses on identifying and handling potentially irrelevant data that may not contribute meaningfully to the analysis or model building. Removing or addressing irrelevant data helps streamline the dataset and improve performance during analysis.\n",
    "\n",
    "1. **Low Variance Columns:** Columns with very low variance are often uninformative and may not contribute significantly to model performance. These can be identified and flagged:"
   ]
  },
  {
   "cell_type": "code",
   "execution_count": 81,
   "metadata": {},
   "outputs": [
    {
     "name": "stdout",
     "output_type": "stream",
     "text": [
      "Columns with low variance:\n",
      "RecentHolidaysTaken         0.007595\n",
      "JobStatus                   0.003797\n",
      "CivilStatus                 0.005063\n",
      "MistakesLastYear            0.002532\n",
      "HighestEducationAttained    0.006329\n",
      "BondingSuccessful           0.002532\n",
      "PriorExecutionDefaults      0.002532\n",
      "DifferentTasksCompleted     0.007595\n",
      "dtype: float64\n"
     ]
    }
   ],
   "source": [
    "low_variance = df_cleaned.nunique() / len(df_cleaned)\n",
    "print(\"Columns with low variance:\")\n",
    "print(low_variance[low_variance < 0.01])"
   ]
  },
  {
   "cell_type": "markdown",
   "metadata": {},
   "source": [
    "This code calculates the proportion of unique values for each column. Columns with less than 1% unique values can be considered for removal.\n",
    "\n",
    "Obtained Low Variance Columns:\n",
    "- RecentHolidaysTaken (0.0076): This column has very few unique values relative to the total data, indicating that it might not provide significant differentiation for analysis.\n",
    "- JobStatus (0.0038): The majority of entries are likely concentrated in a single category, making this column less informative.\n",
    "- CivilStatus (0.0051): The low variance suggests that most entries fall into a dominant category, potentially limiting its usefulness for modeling.\n",
    "- MistakesLastYear (0.0025): This column shows minimal variability, suggesting it might not capture meaningful differences in behavior.\n",
    "- HighestEducationAttained (0.0063): Despite low variance, this column could still be relevant depending on the analysis goals (e.g., understanding the impact of education).\n",
    "- BondingSuccessful (0.0025): The low variance here implies that most values are concentrated, which may not offer significant insights.\n",
    "- PriorExecutionDefaults (0.0025): Similar to BondingSuccessful, this column's low variance may limit its utility.\n",
    "- DifferentTasksCompleted (0.0076): Low variability suggests it might not contribute significantly to explaining differences in the target variable.\n",
    "\n",
    "While these columns exhibit low variance, their inclusion or exclusion should also depend on domain knowledge and the specific objectives of the analysis."
   ]
  },
  {
   "cell_type": "markdown",
   "metadata": {},
   "source": [
    "2. Highly Correlated Columns:\n",
    "High correlation between columns may indicate redundancy. Correlation analysis can highlight such relationships:"
   ]
  },
  {
   "cell_type": "code",
   "execution_count": 87,
   "metadata": {},
   "outputs": [
    {
     "name": "stdout",
     "output_type": "stream",
     "text": [
      "JobStatus                   3\n",
      "CivilStatus                 4\n",
      "HighestEducationAttained    5\n",
      "dtype: int64\n",
      "Columns with high cardinality:\n",
      "Series([], dtype: int64)\n"
     ]
    }
   ],
   "source": [
    "high_cardinality = df_cleaned.select_dtypes(include='object').nunique()\n",
    "print(high_cardinality)\n",
    "print(\"Columns with high cardinality:\")\n",
    "print(high_cardinality[high_cardinality > 50]) \n",
    "#we used 50 as a threshold, but generally we could use anything from 20 to +inf, as our cardinalities are low spanning sizes of 3,4,5"
   ]
  },
  {
   "cell_type": "markdown",
   "metadata": {},
   "source": [
    "These results show that all categorical columns have low cardinality, which is beneficial for preprocessing and modeling. The manageable number of categories in these columns ensures that encoding techniques, such as one-hot encoding or label encoding, can be applied without introducing significant complexity or dimensionality issues. No additional action is needed for high cardinality in this dataset."
   ]
  },
  {
   "cell_type": "markdown",
   "metadata": {},
   "source": [
    "3. Additional Potential Steps:\n",
    "\n",
    "- **Domain-Specific Relevance:**\n",
    "Certain columns may not align with the specific goals of the analysis or modeling. Domain knowledge can guide decisions to exclude such columns. For instance, a column like CivilStatus may have limited relevance if it does not contribute significantly to the target variable or analytical objectives. Similarly, metadata columns that are operational in nature but do not provide analytical value can also be considered for exclusion.\n",
    "\n",
    "- **Interaction Effects:**\n",
    "Another potential step involves examining interaction effects between columns. If two or more columns exhibit redundancy or overlap in information, it might be useful to merge them into a single feature or remove redundant ones.\n",
    "\n",
    "- **Outlier Analysis:**\n",
    "While not directly related to irrelevance, extreme outliers in certain columns may skew the data and reduce the effectiveness of models. Identifying and handling these outliers can further refine the dataset.\n",
    "\n",
    "All potentially irrelevant columns identified in this step will undergo further scrutiny in the next stage of data profiling. At that point, decisions regarding their exclusion will be finalized based on a detailed assessment of their impact on the analysis and model-building process."
   ]
  },
  {
   "cell_type": "markdown",
   "metadata": {},
   "source": [
    "### Data profiling and statistical overview"
   ]
  },
  {
   "cell_type": "markdown",
   "metadata": {},
   "source": [
    "#### Data distribution across categorical, discrete, and continuous variables"
   ]
  },
  {
   "cell_type": "markdown",
   "metadata": {},
   "source": [
    "**Thing to point out :** distribution of succeded bonding"
   ]
  },
  {
   "cell_type": "markdown",
   "metadata": {},
   "source": [
    "##### Distribution of discrete numerical values"
   ]
  },
  {
   "cell_type": "markdown",
   "metadata": {},
   "source": [
    "##### Distribution of continous numerical values"
   ]
  },
  {
   "cell_type": "markdown",
   "metadata": {},
   "source": [
    "##### Distribution of categorical values"
   ]
  },
  {
   "cell_type": "markdown",
   "metadata": {},
   "source": [
    "#### Label encoding for target value "
   ]
  },
  {
   "cell_type": "markdown",
   "metadata": {},
   "source": [
    "### Correlation heatmap"
   ]
  },
  {
   "cell_type": "markdown",
   "metadata": {},
   "source": [
    "#### Preprocessing dataset for expected heatmap "
   ]
  },
  {
   "cell_type": "markdown",
   "metadata": {},
   "source": [
    "#### Final correlation heatmap of cleaned and scaled dataframe"
   ]
  },
  {
   "cell_type": "markdown",
   "metadata": {},
   "source": [
    "## CHECK TO ADD SOMETHING (data splitting, preparing data for modelling, feature selection)"
   ]
  },
  {
   "cell_type": "markdown",
   "metadata": {},
   "source": [
    "## Machine Learning Models"
   ]
  },
  {
   "cell_type": "markdown",
   "metadata": {},
   "source": [
    "### Model selection"
   ]
  },
  {
   "cell_type": "markdown",
   "metadata": {},
   "source": [
    "### Model training and evaluation"
   ]
  },
  {
   "cell_type": "markdown",
   "metadata": {},
   "source": [
    "### Possible resampling ??"
   ]
  },
  {
   "cell_type": "markdown",
   "metadata": {},
   "source": [
    "###  Hyperparameter tuning"
   ]
  },
  {
   "cell_type": "markdown",
   "metadata": {},
   "source": [
    "### Model Comparison and Feature Importance and Interpretability ???"
   ]
  },
  {
   "cell_type": "markdown",
   "metadata": {},
   "source": [
    "### Evaluation and analysis of models"
   ]
  },
  {
   "cell_type": "markdown",
   "metadata": {},
   "source": [
    "## Model Results and Evaluation"
   ]
  },
  {
   "cell_type": "markdown",
   "metadata": {},
   "source": [
    "## Conclusion"
   ]
  }
 ],
 "metadata": {
  "kernelspec": {
   "display_name": "venv",
   "language": "python",
   "name": "python3"
  },
  "language_info": {
   "codemirror_mode": {
    "name": "ipython",
    "version": 3
   },
   "file_extension": ".py",
   "mimetype": "text/x-python",
   "name": "python",
   "nbconvert_exporter": "python",
   "pygments_lexer": "ipython3",
   "version": "3.12.4"
  }
 },
 "nbformat": 4,
 "nbformat_minor": 2
}
