{
 "cells": [
  {
   "cell_type": "markdown",
   "metadata": {},
   "source": [
    "# Aerogel Bonding AI & ML Project 2024"
   ]
  },
  {
   "cell_type": "markdown",
   "metadata": {},
   "source": [
    "## Importing Libraries & Reading Data"
   ]
  },
  {
   "cell_type": "code",
   "execution_count": 39,
   "metadata": {},
   "outputs": [],
   "source": [
    "#Importing libraries \n",
    "\n",
    "import numpy as np \n",
    "import pandas as pd\n",
    "import matplotlib.pyplot as plt\n",
    "import sklearn\n",
    "import seaborn as sns\n",
    "from sklearn.model_selection import train_test_split, cross_val_score, GridSearchCV\n",
    "from sklearn.linear_model import LogisticRegression\n",
    "from sklearn.tree import DecisionTreeClassifier\n",
    "from sklearn.ensemble import RandomForestClassifier\n",
    "\n",
    "#Reading dataset\n",
    "path = './aerogel_bonding.csv'\n",
    "starting_data = pd.read_csv(path)"
   ]
  },
  {
   "cell_type": "markdown",
   "metadata": {},
   "source": [
    "## EDA & Data Pre-Processing\n",
    "\n",
    "This section explores the aerogel bonding dataset through Exploratory Data Analysis (EDA)."
   ]
  },
  {
   "cell_type": "markdown",
   "metadata": {},
   "source": [
    "### Understanding dataset\n",
    "\n",
    "First, configure pandas to display all columns in the DataFrame."
   ]
  },
  {
   "cell_type": "code",
   "execution_count": 40,
   "metadata": {},
   "outputs": [],
   "source": [
    "pd.set_option('display.max_columns', None)"
   ]
  },
  {
   "cell_type": "markdown",
   "metadata": {},
   "source": [
    "#### Vizualising and understaning data structure & values"
   ]
  },
  {
   "cell_type": "markdown",
   "metadata": {},
   "source": [
    "Now, let's visualize the first few rows of the dataset to get a better understanding of its structure."
   ]
  },
  {
   "cell_type": "code",
   "execution_count": 41,
   "metadata": {},
   "outputs": [
    {
     "data": {
      "text/html": [
       "<div>\n",
       "<style scoped>\n",
       "    .dataframe tbody tr th:only-of-type {\n",
       "        vertical-align: middle;\n",
       "    }\n",
       "\n",
       "    .dataframe tbody tr th {\n",
       "        vertical-align: top;\n",
       "    }\n",
       "\n",
       "    .dataframe thead th {\n",
       "        text-align: right;\n",
       "    }\n",
       "</style>\n",
       "<table border=\"1\" class=\"dataframe\">\n",
       "  <thead>\n",
       "    <tr style=\"text-align: right;\">\n",
       "      <th></th>\n",
       "      <th>HolidaysTaken</th>\n",
       "      <th>PercentageOfCompletedTasks</th>\n",
       "      <th>CurrentJobDuration</th>\n",
       "      <th>RecentHolidaysTaken</th>\n",
       "      <th>RequestedProcessAmount</th>\n",
       "      <th>JobStatus</th>\n",
       "      <th>BondingRiskRating</th>\n",
       "      <th>TotalMaterialProcessed</th>\n",
       "      <th>ByproductRation</th>\n",
       "      <th>working_skills</th>\n",
       "      <th>CivilStatus</th>\n",
       "      <th>dependability</th>\n",
       "      <th>MistakesLastYear</th>\n",
       "      <th>HighestEducationAttained</th>\n",
       "      <th>BondingSuccessful</th>\n",
       "      <th>ChurnRisk</th>\n",
       "      <th>ProcessedKilograms</th>\n",
       "      <th>SkillRating</th>\n",
       "      <th>ProcessingTimestamp</th>\n",
       "      <th>WorkExperience</th>\n",
       "      <th>HistoricalBehavior</th>\n",
       "      <th>TotalMaterialToProcess</th>\n",
       "      <th>WorkHistoryDuration</th>\n",
       "      <th>ApplicantAge</th>\n",
       "      <th>PriorExecutionDefaults</th>\n",
       "      <th>DifferentTasksCompleted</th>\n",
       "      <th>TotalChurnRisk</th>\n",
       "      <th>OtherCompaniesMaterialProcessed</th>\n",
       "      <th>BondingPeriod</th>\n",
       "      <th>trustability</th>\n",
       "      <th>MonthlyExecutions</th>\n",
       "    </tr>\n",
       "  </thead>\n",
       "  <tbody>\n",
       "    <tr>\n",
       "      <th>0</th>\n",
       "      <td>4.0</td>\n",
       "      <td>NaN</td>\n",
       "      <td>6.0</td>\n",
       "      <td>1.0</td>\n",
       "      <td>51172.0</td>\n",
       "      <td>Employed</td>\n",
       "      <td>46.0</td>\n",
       "      <td>300388.0</td>\n",
       "      <td>0.273137</td>\n",
       "      <td>1.244120</td>\n",
       "      <td>Married</td>\n",
       "      <td>2.798099</td>\n",
       "      <td>0.0</td>\n",
       "      <td>Master</td>\n",
       "      <td>0.0</td>\n",
       "      <td>0.223172</td>\n",
       "      <td>44305.0</td>\n",
       "      <td>606.0</td>\n",
       "      <td>2055-07-29</td>\n",
       "      <td>48.0</td>\n",
       "      <td>23.0</td>\n",
       "      <td>14193.0</td>\n",
       "      <td>3.0</td>\n",
       "      <td>67.0</td>\n",
       "      <td>0.0</td>\n",
       "      <td>NaN</td>\n",
       "      <td>NaN</td>\n",
       "      <td>NaN</td>\n",
       "      <td>24.0</td>\n",
       "      <td>3.144274</td>\n",
       "      <td>440.0</td>\n",
       "    </tr>\n",
       "    <tr>\n",
       "      <th>1</th>\n",
       "      <td>1.0</td>\n",
       "      <td>0.323046</td>\n",
       "      <td>4.0</td>\n",
       "      <td>0.0</td>\n",
       "      <td>11246.0</td>\n",
       "      <td>Employed</td>\n",
       "      <td>54.0</td>\n",
       "      <td>299914.0</td>\n",
       "      <td>0.450387</td>\n",
       "      <td>2.228183</td>\n",
       "      <td>Married</td>\n",
       "      <td>2.586440</td>\n",
       "      <td>0.0</td>\n",
       "      <td>Bachelor</td>\n",
       "      <td>NaN</td>\n",
       "      <td>0.215746</td>\n",
       "      <td>NaN</td>\n",
       "      <td>561.0</td>\n",
       "      <td>2072-03-10</td>\n",
       "      <td>31.0</td>\n",
       "      <td>17.0</td>\n",
       "      <td>85355.0</td>\n",
       "      <td>28.0</td>\n",
       "      <td>52.0</td>\n",
       "      <td>NaN</td>\n",
       "      <td>0.0</td>\n",
       "      <td>0.232582</td>\n",
       "      <td>214559.0</td>\n",
       "      <td>36.0</td>\n",
       "      <td>3.704809</td>\n",
       "      <td>NaN</td>\n",
       "    </tr>\n",
       "    <tr>\n",
       "      <th>2</th>\n",
       "      <td>5.0</td>\n",
       "      <td>0.491574</td>\n",
       "      <td>3.0</td>\n",
       "      <td>1.0</td>\n",
       "      <td>14075.0</td>\n",
       "      <td>Employed</td>\n",
       "      <td>42.4</td>\n",
       "      <td>74687.0</td>\n",
       "      <td>0.325027</td>\n",
       "      <td>2.699264</td>\n",
       "      <td>Married</td>\n",
       "      <td>1.949641</td>\n",
       "      <td>0.0</td>\n",
       "      <td>Bachelor</td>\n",
       "      <td>1.0</td>\n",
       "      <td>0.256075</td>\n",
       "      <td>67954.0</td>\n",
       "      <td>NaN</td>\n",
       "      <td>2032-01-24</td>\n",
       "      <td>20.0</td>\n",
       "      <td>25.0</td>\n",
       "      <td>14006.0</td>\n",
       "      <td>NaN</td>\n",
       "      <td>45.0</td>\n",
       "      <td>0.0</td>\n",
       "      <td>0.0</td>\n",
       "      <td>0.240812</td>\n",
       "      <td>60681.0</td>\n",
       "      <td>60.0</td>\n",
       "      <td>2.427195</td>\n",
       "      <td>171.0</td>\n",
       "    </tr>\n",
       "    <tr>\n",
       "      <th>3</th>\n",
       "      <td>4.0</td>\n",
       "      <td>0.108916</td>\n",
       "      <td>3.0</td>\n",
       "      <td>1.0</td>\n",
       "      <td>18957.0</td>\n",
       "      <td>Employed</td>\n",
       "      <td>40.8</td>\n",
       "      <td>47866.0</td>\n",
       "      <td>NaN</td>\n",
       "      <td>0.445854</td>\n",
       "      <td>Married</td>\n",
       "      <td>1.569581</td>\n",
       "      <td>0.0</td>\n",
       "      <td>Bachelor</td>\n",
       "      <td>1.0</td>\n",
       "      <td>0.240457</td>\n",
       "      <td>98184.0</td>\n",
       "      <td>607.0</td>\n",
       "      <td>2029-11-12</td>\n",
       "      <td>19.0</td>\n",
       "      <td>32.0</td>\n",
       "      <td>13240.0</td>\n",
       "      <td>16.0</td>\n",
       "      <td>42.0</td>\n",
       "      <td>0.0</td>\n",
       "      <td>4.0</td>\n",
       "      <td>0.231520</td>\n",
       "      <td>34626.0</td>\n",
       "      <td>84.0</td>\n",
       "      <td>1.156431</td>\n",
       "      <td>212.0</td>\n",
       "    </tr>\n",
       "    <tr>\n",
       "      <th>4</th>\n",
       "      <td>NaN</td>\n",
       "      <td>0.174628</td>\n",
       "      <td>1.0</td>\n",
       "      <td>2.0</td>\n",
       "      <td>17902.0</td>\n",
       "      <td>Employed</td>\n",
       "      <td>51.0</td>\n",
       "      <td>18181.0</td>\n",
       "      <td>0.388317</td>\n",
       "      <td>1.940075</td>\n",
       "      <td>Single</td>\n",
       "      <td>2.149917</td>\n",
       "      <td>NaN</td>\n",
       "      <td>Associate</td>\n",
       "      <td>NaN</td>\n",
       "      <td>0.206902</td>\n",
       "      <td>48981.0</td>\n",
       "      <td>612.0</td>\n",
       "      <td>2031-08-22</td>\n",
       "      <td>28.0</td>\n",
       "      <td>14.0</td>\n",
       "      <td>44217.0</td>\n",
       "      <td>28.0</td>\n",
       "      <td>50.0</td>\n",
       "      <td>0.0</td>\n",
       "      <td>0.0</td>\n",
       "      <td>0.214425</td>\n",
       "      <td>4812.0</td>\n",
       "      <td>48.0</td>\n",
       "      <td>3.185402</td>\n",
       "      <td>323.0</td>\n",
       "    </tr>\n",
       "  </tbody>\n",
       "</table>\n",
       "</div>"
      ],
      "text/plain": [
       "   HolidaysTaken  PercentageOfCompletedTasks  CurrentJobDuration  \\\n",
       "0            4.0                         NaN                 6.0   \n",
       "1            1.0                    0.323046                 4.0   \n",
       "2            5.0                    0.491574                 3.0   \n",
       "3            4.0                    0.108916                 3.0   \n",
       "4            NaN                    0.174628                 1.0   \n",
       "\n",
       "   RecentHolidaysTaken  RequestedProcessAmount JobStatus  BondingRiskRating  \\\n",
       "0                  1.0                 51172.0  Employed               46.0   \n",
       "1                  0.0                 11246.0  Employed               54.0   \n",
       "2                  1.0                 14075.0  Employed               42.4   \n",
       "3                  1.0                 18957.0  Employed               40.8   \n",
       "4                  2.0                 17902.0  Employed               51.0   \n",
       "\n",
       "   TotalMaterialProcessed  ByproductRation  working_skills CivilStatus  \\\n",
       "0                300388.0         0.273137        1.244120     Married   \n",
       "1                299914.0         0.450387        2.228183     Married   \n",
       "2                 74687.0         0.325027        2.699264     Married   \n",
       "3                 47866.0              NaN        0.445854     Married   \n",
       "4                 18181.0         0.388317        1.940075      Single   \n",
       "\n",
       "   dependability  MistakesLastYear HighestEducationAttained  \\\n",
       "0       2.798099               0.0                   Master   \n",
       "1       2.586440               0.0                 Bachelor   \n",
       "2       1.949641               0.0                 Bachelor   \n",
       "3       1.569581               0.0                 Bachelor   \n",
       "4       2.149917               NaN                Associate   \n",
       "\n",
       "   BondingSuccessful  ChurnRisk  ProcessedKilograms  SkillRating  \\\n",
       "0                0.0   0.223172             44305.0        606.0   \n",
       "1                NaN   0.215746                 NaN        561.0   \n",
       "2                1.0   0.256075             67954.0          NaN   \n",
       "3                1.0   0.240457             98184.0        607.0   \n",
       "4                NaN   0.206902             48981.0        612.0   \n",
       "\n",
       "  ProcessingTimestamp  WorkExperience  HistoricalBehavior  \\\n",
       "0          2055-07-29            48.0                23.0   \n",
       "1          2072-03-10            31.0                17.0   \n",
       "2          2032-01-24            20.0                25.0   \n",
       "3          2029-11-12            19.0                32.0   \n",
       "4          2031-08-22            28.0                14.0   \n",
       "\n",
       "   TotalMaterialToProcess  WorkHistoryDuration  ApplicantAge  \\\n",
       "0                 14193.0                  3.0          67.0   \n",
       "1                 85355.0                 28.0          52.0   \n",
       "2                 14006.0                  NaN          45.0   \n",
       "3                 13240.0                 16.0          42.0   \n",
       "4                 44217.0                 28.0          50.0   \n",
       "\n",
       "   PriorExecutionDefaults  DifferentTasksCompleted  TotalChurnRisk  \\\n",
       "0                     0.0                      NaN             NaN   \n",
       "1                     NaN                      0.0        0.232582   \n",
       "2                     0.0                      0.0        0.240812   \n",
       "3                     0.0                      4.0        0.231520   \n",
       "4                     0.0                      0.0        0.214425   \n",
       "\n",
       "   OtherCompaniesMaterialProcessed  BondingPeriod  trustability  \\\n",
       "0                              NaN           24.0      3.144274   \n",
       "1                         214559.0           36.0      3.704809   \n",
       "2                          60681.0           60.0      2.427195   \n",
       "3                          34626.0           84.0      1.156431   \n",
       "4                           4812.0           48.0      3.185402   \n",
       "\n",
       "   MonthlyExecutions  \n",
       "0              440.0  \n",
       "1                NaN  \n",
       "2              171.0  \n",
       "3              212.0  \n",
       "4              323.0  "
      ]
     },
     "execution_count": 41,
     "metadata": {},
     "output_type": "execute_result"
    }
   ],
   "source": [
    "starting_data.head()"
   ]
  },
  {
   "cell_type": "markdown",
   "metadata": {},
   "source": [
    "This visual representation of the data makes it easier to spot patterns and potential anomalies.\n",
    "\n",
    "To more efficiently identify all data threats, we will conduct a detailed analysis of each column."
   ]
  },
  {
   "cell_type": "markdown",
   "metadata": {},
   "source": [
    "#### Deeper evaluation on dataset features"
   ]
  },
  {
   "cell_type": "markdown",
   "metadata": {},
   "source": [
    "- **HolidaysTaken:** Integer of days taken for holiday by the worker, it can be NaN if the worker didn't take any days off, same as it would be for 0, it wouldn't affect any calculations, only rows with negative numbers if found should be excluded.\n",
    "- **PercentageOfCompletedTasks:** Float between 0 and 1, representing percentage(divided by 100) of completed tasks by worker, it can be NaN in case someone hasn't completed any given task, or in case it hasn't been assigned any work\n",
    "- **CurrentJobDuration:** Integer representing number of months worker has been working there, in case of NaN, negative or 0, row should be excluded.\n",
    "- **RecentHolidaysTaken:** Integer of days taken for recent holiday, it should be smaller or equal to HolidaysTaken, otherwise row should be excluded.\n",
    "- **RequestedProcessAmount:** Integer of amount of material requested for bonding process, NaN and anything smaller than 0 should be excluded.\n",
    "- **JobStatus:** Enum (object) for status of worker, in order to represent it we will be using One-Hot Encoding as we don't want to impose any ordering between categories, additionally it wouldn't impose big issues regarding memory usage as our dataset is not so big and we just have three categories, which makes it very suitable for this problem. Additionally, all NaNs should be excluded.\n",
    "- **BondingRiskRating:** Float between 0 and 100, indicating percentage associated to risk between bonding using certain materials or processes, NaNs can be used as zeros, anything out of range 0-100 should be consider as error and excluded.\n",
    "- **TotalMaterialProcessed:** Integer representing cumulative amount of materials used by worker or team of workers through bonding processes, zeros and negatives should be excluded.\n",
    "- **ByproductRation:** Float between 0 and 1, representing percentage(divided by 100) of byproducts generated bonding relative to total number of materials used, anything out of range or NaNs can be excluded.\n",
    "- **working_skills:** Float between 0 and 5, representing rating of a worker's skills, \n",
    "- **CivilStatus:** \n",
    "- **dependability:**"
   ]
  },
  {
   "cell_type": "markdown",
   "metadata": {},
   "source": [
    "#### Dataset description"
   ]
  },
  {
   "cell_type": "code",
   "execution_count": 43,
   "metadata": {},
   "outputs": [
    {
     "name": "stdout",
     "output_type": "stream",
     "text": [
      "Number of rows and columns: (20000, 31)\n",
      "Data Types and Missing Values:\n",
      "<class 'pandas.core.frame.DataFrame'>\n",
      "RangeIndex: 20000 entries, 0 to 19999\n",
      "Data columns (total 31 columns):\n",
      " #   Column                           Non-Null Count  Dtype  \n",
      "---  ------                           --------------  -----  \n",
      " 0   HolidaysTaken                    18095 non-null  float64\n",
      " 1   PercentageOfCompletedTasks       17955 non-null  float64\n",
      " 2   CurrentJobDuration               17952 non-null  float64\n",
      " 3   RecentHolidaysTaken              18031 non-null  float64\n",
      " 4   RequestedProcessAmount           17925 non-null  float64\n",
      " 5   JobStatus                        17982 non-null  object \n",
      " 6   BondingRiskRating                17950 non-null  float64\n",
      " 7   TotalMaterialProcessed           17957 non-null  float64\n",
      " 8   ByproductRation                  18028 non-null  float64\n",
      " 9   working_skills                   18034 non-null  float64\n",
      " 10  CivilStatus                      18046 non-null  object \n",
      " 11  dependability                    18051 non-null  float64\n",
      " 12  MistakesLastYear                 18013 non-null  float64\n",
      " 13  HighestEducationAttained         17937 non-null  object \n",
      " 14  BondingSuccessful                17997 non-null  float64\n",
      " 15  ChurnRisk                        17928 non-null  float64\n",
      " 16  ProcessedKilograms               18046 non-null  float64\n",
      " 17  SkillRating                      18033 non-null  float64\n",
      " 18  ProcessingTimestamp              17977 non-null  object \n",
      " 19  WorkExperience                   18069 non-null  float64\n",
      " 20  HistoricalBehavior               17991 non-null  float64\n",
      " 21  TotalMaterialToProcess           18045 non-null  float64\n",
      " 22  WorkHistoryDuration              17998 non-null  float64\n",
      " 23  ApplicantAge                     17932 non-null  float64\n",
      " 24  PriorExecutionDefaults           17945 non-null  float64\n",
      " 25  DifferentTasksCompleted          18049 non-null  float64\n",
      " 26  TotalChurnRisk                   18012 non-null  float64\n",
      " 27  OtherCompaniesMaterialProcessed  17995 non-null  float64\n",
      " 28  BondingPeriod                    17956 non-null  float64\n",
      " 29  trustability                     18025 non-null  float64\n",
      " 30  MonthlyExecutions                18016 non-null  float64\n",
      "dtypes: float64(27), object(4)\n",
      "memory usage: 4.7+ MB\n",
      "None\n"
     ]
    }
   ],
   "source": [
    "print(f\"Number of rows and columns: {starting_data.shape}\")\n",
    "print(\"Data Types and Missing Values:\")\n",
    "print(starting_data.info())"
   ]
  },
  {
   "cell_type": "markdown",
   "metadata": {},
   "source": [
    "### Checking data integrity"
   ]
  },
  {
   "cell_type": "markdown",
   "metadata": {},
   "source": [
    "#### Identifying missing values"
   ]
  },
  {
   "cell_type": "code",
   "execution_count": 19,
   "metadata": {},
   "outputs": [
    {
     "name": "stdout",
     "output_type": "stream",
     "text": [
      "Summary:\n",
      "                           Data Type  Missing Values  Total Values Percentage Missing\n",
      "PercentageOfCompletedTasks   float64               0          2466              0.00%\n",
      "CurrentJobDuration           float64               0          2466              0.00%\n",
      "RequestedProcessAmount       float64               0          2466              0.00%\n",
      "BondingRiskRating            float64               0          2466              0.00%\n",
      "TotalMaterialProcessed       float64               0          2466              0.00%\n",
      "ByproductRation              float64               0          2466              0.00%\n",
      "working_skills               float64               0          2466              0.00%\n",
      "dependability                float64               0          2466              0.00%\n",
      "MistakesLastYear             float64               0          2466              0.00%\n",
      "BondingSuccessful            float64               0          2466              0.00%\n",
      "ProcessedKilograms           float64               0          2466              0.00%\n",
      "SkillRating                  float64               0          2466              0.00%\n",
      "WorkExperience               float64               0          2466              0.00%\n",
      "HistoricalBehavior           float64               0          2466              0.00%\n",
      "TotalMaterialToProcess       float64               0          2466              0.00%\n",
      "PriorExecutionDefaults       float64               0          2466              0.00%\n",
      "DifferentTasksCompleted      float64               0          2466              0.00%\n",
      "BondingPeriod                float64               0          2466              0.00%\n",
      "trustability                 float64               0          2466              0.00%\n",
      "MonthlyExecutions            float64               0          2466              0.00%\n"
     ]
    }
   ],
   "source": [
    "# Configure pandas to display the entire table without line breaks\n",
    "pd.set_option('display.max_columns', None)  # Show all columns\n",
    "pd.set_option('display.width', 1000)       # Set the width to prevent line breaks\n",
    "\n",
    "# Calculate missing values\n",
    "missing_values = df.isnull().sum()\n",
    "\n",
    "# Calculate total values (missing + non-missing)\n",
    "total_values = df.shape[0]  # Total rows in the DataFrame\n",
    "\n",
    "# Calculate percentage of missing values and format with percentage sign\n",
    "percentage_missing = (missing_values / total_values * 100).apply(lambda x: f'{x:.2f}%')\n",
    "\n",
    "# Add data types\n",
    "data_types = df.dtypes\n",
    "\n",
    "# Create a summary DataFrame\n",
    "summary_df = pd.DataFrame({\n",
    "    'Data Type': data_types,\n",
    "    'Missing Values': missing_values,\n",
    "    'Total Values': total_values,\n",
    "    'Percentage Missing': percentage_missing,\n",
    "})\n",
    "\n",
    "# Sort by Missing Values\n",
    "summary_df.sort_values(by='Missing Values', ascending=False, inplace=True)\n",
    "\n",
    "# Print the summary\n",
    "print(\"Summary:\")\n",
    "print(summary_df)\n",
    "\n",
    "# Reset pandas options after printing if needed\n",
    "pd.reset_option('display.max_columns')\n",
    "pd.reset_option('display.width')\n"
   ]
  },
  {
   "cell_type": "markdown",
   "metadata": {},
   "source": [
    "#### Missing rates and distribution of missing rates"
   ]
  },
  {
   "cell_type": "markdown",
   "metadata": {},
   "source": [
    "#### Handling of missing data"
   ]
  },
  {
   "cell_type": "code",
   "execution_count": 20,
   "metadata": {},
   "outputs": [
    {
     "name": "stdout",
     "output_type": "stream",
     "text": [
      "Total duplicate rows: 0\n",
      "Percentage of duplicates: 0.00%\n",
      "No duplicate rows found.\n"
     ]
    }
   ],
   "source": [
    "#MAYBE DO SHORTER\n",
    "\n",
    "\n",
    "# Calculate the number of duplicate rows\n",
    "duplicates = df.duplicated().sum()\n",
    "\n",
    "# Calculate percentage of duplicates\n",
    "total_rows = df.shape[0]\n",
    "percentage_duplicates = (duplicates / total_rows) * 100\n",
    "\n",
    "# Print summary of duplicates\n",
    "print(f\"Total duplicate rows: {duplicates}\")\n",
    "print(f\"Percentage of duplicates: {percentage_duplicates:.2f}%\")\n",
    "\n",
    "# Optionally display the duplicate rows\n",
    "if duplicates > 0:\n",
    "    print(\"Duplicate rows:\")\n",
    "    print(df[df.duplicated()])\n",
    "else:\n",
    "    print(\"No duplicate rows found.\")\n"
   ]
  },
  {
   "cell_type": "markdown",
   "metadata": {},
   "source": [
    "#### Analysis of potential irrelevant data"
   ]
  },
  {
   "cell_type": "code",
   "execution_count": 21,
   "metadata": {},
   "outputs": [
    {
     "name": "stdout",
     "output_type": "stream",
     "text": [
      "Updated DataFrame Info:\n",
      "<class 'pandas.core.frame.DataFrame'>\n",
      "Index: 2466 entries, 8 to 19992\n",
      "Data columns (total 20 columns):\n",
      " #   Column                      Non-Null Count  Dtype  \n",
      "---  ------                      --------------  -----  \n",
      " 0   PercentageOfCompletedTasks  2466 non-null   float64\n",
      " 1   CurrentJobDuration          2466 non-null   float64\n",
      " 2   RequestedProcessAmount      2466 non-null   float64\n",
      " 3   BondingRiskRating           2466 non-null   float64\n",
      " 4   TotalMaterialProcessed      2466 non-null   float64\n",
      " 5   ByproductRation             2466 non-null   float64\n",
      " 6   working_skills              2466 non-null   float64\n",
      " 7   dependability               2466 non-null   float64\n",
      " 8   MistakesLastYear            2466 non-null   float64\n",
      " 9   BondingSuccessful           2466 non-null   float64\n",
      " 10  ProcessedKilograms          2466 non-null   float64\n",
      " 11  SkillRating                 2466 non-null   float64\n",
      " 12  WorkExperience              2466 non-null   float64\n",
      " 13  HistoricalBehavior          2466 non-null   float64\n",
      " 14  TotalMaterialToProcess      2466 non-null   float64\n",
      " 15  PriorExecutionDefaults      2466 non-null   float64\n",
      " 16  DifferentTasksCompleted     2466 non-null   float64\n",
      " 17  BondingPeriod               2466 non-null   float64\n",
      " 18  trustability                2466 non-null   float64\n",
      " 19  MonthlyExecutions           2466 non-null   float64\n",
      "dtypes: float64(20)\n",
      "memory usage: 404.6 KB\n",
      "None\n"
     ]
    }
   ],
   "source": [
    "# Columns identified as irrelevant\n",
    "columns_to_drop = [\n",
    "    'HolidaysTaken', \n",
    "    'RecentHolidaysTaken', \n",
    "    'JobStatus', \n",
    "    'CivilStatus', \n",
    "    'HighestEducationAttained', #very very small\n",
    "    'ChurnRisk', #very small\n",
    "    'ProcessingTimestamp', #medium \n",
    "    'ApplicantAge', #reduntant we have work experience\n",
    "    'WorkHistoryDuration', #reduntant we have work experience\n",
    "    'TotalChurnRisk', #we have churn risk ???\n",
    "    'OtherCompaniesMaterialProcessed' #???\n",
    "]\n",
    "\n",
    "# Drop irrelevant columns\n",
    "df = df.drop(columns=columns_to_drop, errors='ignore')\n",
    "\n",
    "# Drop rows with missing values\n",
    "df = df.dropna()\n",
    "\n",
    "# Display summary after dropping\n",
    "print(\"Updated DataFrame Info:\")\n",
    "print(df.info())\n"
   ]
  },
  {
   "cell_type": "markdown",
   "metadata": {},
   "source": [
    "### Data profiling and statistical overview"
   ]
  },
  {
   "cell_type": "markdown",
   "metadata": {},
   "source": [
    "#### Data distribution across categorical, discrete, and continuous variables"
   ]
  },
  {
   "cell_type": "markdown",
   "metadata": {},
   "source": [
    "**Thing to point out :** distribution of succeded bonding"
   ]
  },
  {
   "cell_type": "markdown",
   "metadata": {},
   "source": [
    "##### Distribution of discrete numerical values"
   ]
  },
  {
   "cell_type": "markdown",
   "metadata": {},
   "source": [
    "##### Distribution of continous numerical values"
   ]
  },
  {
   "cell_type": "markdown",
   "metadata": {},
   "source": [
    "##### Distribution of categorical values"
   ]
  },
  {
   "cell_type": "markdown",
   "metadata": {},
   "source": [
    "#### Label encoding for target value "
   ]
  },
  {
   "cell_type": "markdown",
   "metadata": {},
   "source": [
    "### Correlation heatmap"
   ]
  },
  {
   "cell_type": "markdown",
   "metadata": {},
   "source": [
    "#### Preprocessing dataset for expected heatmap "
   ]
  },
  {
   "cell_type": "markdown",
   "metadata": {},
   "source": [
    "#### Final correlation heatmap of cleaned and scaled dataframe"
   ]
  },
  {
   "cell_type": "markdown",
   "metadata": {},
   "source": [
    "## CHECK TO ADD SOMETHING (data splitting, preparing data for modelling, feature selection)"
   ]
  },
  {
   "cell_type": "markdown",
   "metadata": {},
   "source": [
    "## Machine Learning Models"
   ]
  },
  {
   "cell_type": "markdown",
   "metadata": {},
   "source": [
    "### Model selection"
   ]
  },
  {
   "cell_type": "markdown",
   "metadata": {},
   "source": [
    "### Model training and evaluation"
   ]
  },
  {
   "cell_type": "markdown",
   "metadata": {},
   "source": [
    "### Possible resampling ??"
   ]
  },
  {
   "cell_type": "markdown",
   "metadata": {},
   "source": [
    "###  Hyperparameter tuning"
   ]
  },
  {
   "cell_type": "markdown",
   "metadata": {},
   "source": [
    "### Model Comparison and Feature Importance and Interpretability ???"
   ]
  },
  {
   "cell_type": "markdown",
   "metadata": {},
   "source": [
    "### Evaluation and analysis of models"
   ]
  },
  {
   "cell_type": "markdown",
   "metadata": {},
   "source": [
    "## Model Results and Evaluation"
   ]
  },
  {
   "cell_type": "markdown",
   "metadata": {},
   "source": [
    "## Conclusion"
   ]
  }
 ],
 "metadata": {
  "kernelspec": {
   "display_name": "venv",
   "language": "python",
   "name": "python3"
  },
  "language_info": {
   "codemirror_mode": {
    "name": "ipython",
    "version": 3
   },
   "file_extension": ".py",
   "mimetype": "text/x-python",
   "name": "python",
   "nbconvert_exporter": "python",
   "pygments_lexer": "ipython3",
   "version": "3.12.4"
  }
 },
 "nbformat": 4,
 "nbformat_minor": 2
}
